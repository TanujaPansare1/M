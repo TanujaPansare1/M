{
 "cells": [
  {
   "cell_type": "code",
   "execution_count": 2,
   "id": "7448a0b1",
   "metadata": {},
   "outputs": [
    {
     "name": "stdout",
     "output_type": "stream",
     "text": [
      "<class 'pandas.core.frame.DataFrame'>\n",
      "RangeIndex: 2823 entries, 0 to 2822\n",
      "Data columns (total 25 columns):\n",
      " #   Column            Non-Null Count  Dtype  \n",
      "---  ------            --------------  -----  \n",
      " 0   ORDERNUMBER       2823 non-null   int64  \n",
      " 1   QUANTITYORDERED   2823 non-null   int64  \n",
      " 2   PRICEEACH         2823 non-null   float64\n",
      " 3   ORDERLINENUMBER   2823 non-null   int64  \n",
      " 4   SALES             2823 non-null   float64\n",
      " 5   ORDERDATE         2823 non-null   object \n",
      " 6   STATUS            2823 non-null   object \n",
      " 7   QTR_ID            2823 non-null   int64  \n",
      " 8   MONTH_ID          2823 non-null   int64  \n",
      " 9   YEAR_ID           2823 non-null   int64  \n",
      " 10  PRODUCTLINE       2823 non-null   object \n",
      " 11  MSRP              2823 non-null   int64  \n",
      " 12  PRODUCTCODE       2823 non-null   object \n",
      " 13  CUSTOMERNAME      2823 non-null   object \n",
      " 14  PHONE             2823 non-null   object \n",
      " 15  ADDRESSLINE1      2823 non-null   object \n",
      " 16  ADDRESSLINE2      302 non-null    object \n",
      " 17  CITY              2823 non-null   object \n",
      " 18  STATE             1337 non-null   object \n",
      " 19  POSTALCODE        2747 non-null   object \n",
      " 20  COUNTRY           2823 non-null   object \n",
      " 21  TERRITORY         1749 non-null   object \n",
      " 22  CONTACTLASTNAME   2823 non-null   object \n",
      " 23  CONTACTFIRSTNAME  2823 non-null   object \n",
      " 24  DEALSIZE          2823 non-null   object \n",
      "dtypes: float64(2), int64(7), object(16)\n",
      "memory usage: 551.5+ KB\n"
     ]
    },
    {
     "name": "stderr",
     "output_type": "stream",
     "text": [
      "C:\\Users\\Sakshi Kapase\\New folder\\lib\\site-packages\\sklearn\\cluster\\_kmeans.py:1036: UserWarning: KMeans is known to have a memory leak on Windows with MKL, when there are less chunks than available threads. You can avoid it by setting the environment variable OMP_NUM_THREADS=1.\n",
      "  warnings.warn(\n"
     ]
    },
    {
     "data": {
      "image/png": "[encoded data removed]",
      "text/plain": [
       "<Figure size 640x480 with 1 Axes>"
      ]
     },
     "metadata": {},
     "output_type": "display_data"
    },
    {
     "ename": "NameError",
     "evalue": "name 'StandardScaler' is not defined",
     "output_type": "error",
     "traceback": [
      "\u001b[1;31m---------------------------------------------------------------------------\u001b[0m",
      "\u001b[1;31mNameError\u001b[0m                                 Traceback (most recent call last)",
      "\u001b[1;32m~\\AppData\\Local\\Temp\\ipykernel_6372\\137078870.py\u001b[0m in \u001b[0;36m<module>\u001b[1;34m\u001b[0m\n\u001b[0;32m     39\u001b[0m \u001b[1;33m\u001b[0m\u001b[0m\n\u001b[0;32m     40\u001b[0m \u001b[1;33m\u001b[0m\u001b[0m\n\u001b[1;32m---> 41\u001b[1;33m \u001b[0mscale\u001b[0m \u001b[1;33m=\u001b[0m \u001b[0mStandardScaler\u001b[0m\u001b[1;33m(\u001b[0m\u001b[1;33m)\u001b[0m\u001b[1;33m\u001b[0m\u001b[1;33m\u001b[0m\u001b[0m\n\u001b[0m\u001b[0;32m     42\u001b[0m \u001b[0mscaled_data\u001b[0m \u001b[1;33m=\u001b[0m \u001b[0mscale\u001b[0m\u001b[1;33m.\u001b[0m\u001b[0mfit_transform\u001b[0m\u001b[1;33m(\u001b[0m\u001b[0mX\u001b[0m\u001b[1;33m)\u001b[0m\u001b[1;33m\u001b[0m\u001b[1;33m\u001b[0m\u001b[0m\n\u001b[0;32m     43\u001b[0m \u001b[1;33m\u001b[0m\u001b[0m\n",
      "\u001b[1;31mNameError\u001b[0m: name 'StandardScaler' is not defined"
     ]
    }
   ],
   "source": [
    "import pandas as pd\n",
    "import numpy as np\n",
    "import matplotlib.pyplot as plt\n",
    "\n",
    "df=pd.read_csv('sales_data_sample.csv',encoding='latin-1')\n",
    "df\n",
    "df.head()\n",
    "df.tail()\n",
    "df.describe()\n",
    "df.info()\n",
    "df.isnull().sum()\n",
    "df.columns\n",
    "\n",
    "df.dropna(subset=['ADDRESSLINE2'],inplace=True)\n",
    "df.dropna(subset=['STATE'],inplace=True)\n",
    "df.dropna(subset=['TERRITORY'],inplace=True)\n",
    "df.dropna(subset=['POSTALCODE'],inplace=True)\n",
    "\n",
    "df.isnull().sum()\n",
    "\n",
    "X=df.iloc[ :, [3,4]].values\n",
    "\n",
    "# Initialize an empty list to store the within-cluster sum of squares (WCSS)\n",
    "wcss = []\n",
    "from sklearn.cluster import KMeans\n",
    "# Determine the WCSS for a range of cluster numbers (e.g., 1 to 10)\n",
    "for i in range(1,11):\n",
    "  kmeans = KMeans(n_clusters= i, random_state=2)\n",
    "  kmeans.fit(X)\n",
    "  wcss.append(kmeans.inertia_)\n",
    "# It's a measure of the variance within each cluster and is calculated as\n",
    "#the sum of squared distances between data points and their assigned cluster centers.\n",
    "# Plot the WCSS values to identify the elbow point\n",
    "plt.plot(range(1,11), wcss,'rx-')\n",
    "plt.title(\"Elbow Method\")\n",
    "plt.xlabel(\"Number of Cluster(Kvalue)\")\n",
    "plt.ylabel(\"WCSS\")\n",
    "plt.show()\n",
    "\n",
    "\n",
    "scale = StandardScaler()\n",
    "scaled_data = scale.fit_transform(X)\n",
    "     \n",
    "# Based on the plot, visually determine the optimal number of clusters, where the WCSS starts to level off (the \"elbow\" point)\n",
    "\n",
    "# Implement K-Means clustering with the optimal number of clusters\n",
    "# Let's assume you found the optimal number of clusters to be 'k'\n",
    "k = 3  # Replace with the number you determined from the elbow method\n",
    "     \n",
    "     \n",
    "\n",
    "kmeans = KMeans(n_clusters=3,random_state = 0)\n",
    "cluster_lables = kmeans.fit_predict(scaled_data)\n",
    "\n",
    "\n",
    "wcss = []\n",
    "\n",
    "for i in range(1,11):\n",
    "  kmeans = KMeans(n_clusters= i, random_state=2)\n",
    "  kmeans.fit(scaled_data)\n",
    "  wcss.append(kmeans.inertia_)\n",
    "     \n",
    "    \n",
    "    \n",
    "# Plot the WCSS values to identify the elbow point\n",
    "plt.plot(range(1,11), wcss,'bx-')\n",
    "plt.title(\"Elbow Method\")\n",
    "plt.xlabel(\"Number of Cluster(Kvalue)\")\n",
    "plt.ylabel(\"WCSS\")\n",
    "plt.show()"
   ]
  },
  {
   "cell_type": "code",
   "execution_count": null,
   "id": "db4dc9c2",
   "metadata": {},
   "outputs": [],
   "source": []
  }
 ],
 "metadata": {
  "kernelspec": {
   "display_name": "Python 3 (ipykernel)",
   "language": "python",
   "name": "python3"
  },
  "language_info": {
   "codemirror_mode": {
    "name": "ipython",
    "version": 3
   },
   "file_extension": ".py",
   "mimetype": "text/x-python",
   "name": "python",
   "nbconvert_exporter": "python",
   "pygments_lexer": "ipython3",
   "version": "3.9.13"
  }
 },
 "nbformat": 4,
 "nbformat_minor": 5
}
