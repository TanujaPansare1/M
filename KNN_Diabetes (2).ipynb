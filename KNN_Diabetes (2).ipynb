{
 "cells": [
  {
   "cell_type": "code",
   "execution_count": 9,
   "id": "a81fd126",
   "metadata": {},
   "outputs": [
    {
     "name": "stdout",
     "output_type": "stream",
     "text": [
      "<class 'pandas.core.frame.DataFrame'>\n",
      "RangeIndex: 5172 entries, 0 to 5171\n",
      "Columns: 3002 entries, Email No. to Prediction\n",
      "dtypes: int64(3001), object(1)\n",
      "memory usage: 118.5+ MB\n",
      "              precision    recall  f1-score   support\n",
      "\n",
      "           0       0.98      0.84      0.90       929\n",
      "           1       0.70      0.95      0.81       364\n",
      "\n",
      "    accuracy                           0.87      1293\n",
      "   macro avg       0.84      0.89      0.85      1293\n",
      "weighted avg       0.90      0.87      0.88      1293\n",
      "\n",
      "\n",
      "Accuracy: 0.87\n",
      "Error Rate:  0.12838360402165508\n",
      "Sensitivity (Recall or True positive rate) : 0.945054945054945\n",
      "Specificity (True negative rate) : 0.8428417653390743\n",
      "Precision (Positive predictive value) : 0.7020408163265306\n",
      "False Positive Rate : 0.15715823466092574\n"
     ]
    },
    {
     "name": "stderr",
     "output_type": "stream",
     "text": [
      "C:\\Users\\Sakshi Kapase\\New folder\\lib\\site-packages\\sklearn\\neighbors\\_classification.py:228: FutureWarning: Unlike other reduction functions (e.g. `skew`, `kurtosis`), the default behavior of `mode` typically preserves the axis it acts along. In SciPy 1.11.0, this behavior will change: the default value of `keepdims` will become False, the `axis` over which the statistic is taken will be eliminated, and the value None will no longer be accepted. Set `keepdims` to True or False to avoid this warning.\n",
      "  mode, _ = stats.mode(_y[neigh_ind, k], axis=1)\n"
     ]
    }
   ],
   "source": [
    "import pandas as pd\n",
    "import numpy as np\n",
    "df=pd.read_csv(\"emails.csv\")\n",
    "df\n",
    "#preprocessing\n",
    "df.head()\n",
    "df.tail()\n",
    "df.dtypes\n",
    "df.describe()\n",
    "df.info()\n",
    "df.shape\n",
    "\n",
    "\n",
    "#checking for missing values\n",
    "df.isnull().sum().sum()\n",
    "\n",
    "\n",
    "#input data\n",
    "x=df.drop(['Email No.','Prediction'],axis=1) \n",
    "#axis=1 argument specifies that you are \n",
    "#dropping columns (not rows).\n",
    "\n",
    "#output data\n",
    "y=df['Prediction']\n",
    "\n",
    "x.shape #here 2 columns are dropped \n",
    "\n",
    "#feature scaling\n",
    "from sklearn.preprocessing import MinMaxScaler\n",
    "scaler=MinMaxScaler()\n",
    "x_scaled=scaler.fit_transform(x)\n",
    "x_scaled\n",
    "\n",
    "from sklearn.model_selection import train_test_split\n",
    "x_train,x_test,y_train,y_test=train_test_split(x_scaled,y,random_state=0,test_size=0.25)\n",
    "x_scaled.shape\n",
    "x_train.shape #25% is used for training\n",
    "x_test.shape #75 is used for testing\n",
    "\n",
    "#KNN\n",
    "from sklearn.neighbors import KNeighborsClassifier\n",
    "knn=KNeighborsClassifier(n_neighbors=5)\n",
    "knn.fit(x_train,y_train)  \n",
    "y_pred=knn.predict(x_test)\n",
    "\n",
    "#Import evaluation matrix\n",
    "from sklearn.metrics import classification_report\n",
    "from sklearn.metrics import confusion_matrix,ConfusionMatrixDisplay,accuracy_score\n",
    "\n",
    "cm=confusion_matrix(y_test,y_pred)\n",
    "cm\n",
    "accuracy_score(y_test,y_pred)\n",
    "\n",
    "print(classification_report(y_test,y_pred))\n",
    "\n",
    "tp, fn, fp, tn = confusion_matrix(y_test,y_pred,labels=[1,0]).reshape(-1)\n",
    "\n",
    "print('\\nAccuracy: {:.2f}'.format(accuracy_score(y_test,y_pred)))\n",
    "print('Error Rate: ',(fp+fn)/(tp+tn+fn+fp))\n",
    "print('Sensitivity (Recall or True positive rate) :',tp/(tp+fn))\n",
    "print('Specificity (True negative rate) :',tn/(fp+tn))\n",
    "print('Precision (Positive predictive value) :',tp/(tp+fp))\n",
    "print('False Positive Rate :',fp/(tn+fp))"
   ]
  },
  {
   "cell_type": "code",
   "execution_count": null,
   "id": "02c413f4",
   "metadata": {},
   "outputs": [],
   "source": []
  }
 ],
 "metadata": {
  "kernelspec": {
   "display_name": "Python 3 (ipykernel)",
   "language": "python",
   "name": "python3"
  },
  "language_info": {
   "codemirror_mode": {
    "name": "ipython",
    "version": 3
   },
   "file_extension": ".py",
   "mimetype": "text/x-python",
   "name": "python",
   "nbconvert_exporter": "python",
   "pygments_lexer": "ipython3",
   "version": "3.9.13"
  }
 },
 "nbformat": 4,
 "nbformat_minor": 5
}
