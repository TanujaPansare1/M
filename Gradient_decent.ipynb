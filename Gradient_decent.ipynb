{
 "cells": [
  {
   "cell_type": "code",
   "execution_count": 2,
   "id": "3208b1ea",
   "metadata": {},
   "outputs": [
    {
     "name": "stdout",
     "output_type": "stream",
     "text": [
      "Local minimum at x = -2.999999999999999\n",
      "Minimum value of y = 7.888609052210118e-31\n"
     ]
    }
   ],
   "source": [
    "# Define the function\n",
    "def function_to_optimize(x):\n",
    "    return (x + 3)**2\n",
    "\n",
    "# Define the derivative (gradient) of the function\n",
    "def gradient(x):\n",
    "    return 2 * (x + 3)\n",
    "\n",
    "# Hyperparameters\n",
    "learning_rate = 0.1\n",
    "iterations = 1000\n",
    "\n",
    "x = 2  # Starting point\n",
    "\n",
    "# Gradient Descent algorithm\n",
    "for i in range(iterations):\n",
    "    gradient_value = gradient(x)\n",
    "    x = x - learning_rate * gradient_value  # Update x\n",
    "    \n",
    "# After the loop, 'x' should contain the local minimum\n",
    "local_minimum = function_to_optimize(x)\n",
    "\n",
    "print(\"Local minimum at x =\", x)\n",
    "print(\"Minimum value of y =\", local_minimum)\n",
    "\n"
   ]
  },
  {
   "cell_type": "code",
   "execution_count": null,
   "id": "cd32016e",
   "metadata": {},
   "outputs": [],
   "source": []
  },
  {
   "cell_type": "code",
   "execution_count": null,
   "id": "eb6f1ccd",
   "metadata": {},
   "outputs": [],
   "source": []
  }
 ],
 "metadata": {
  "kernelspec": {
   "display_name": "Python 3 (ipykernel)",
   "language": "python",
   "name": "python3"
  },
  "language_info": {
   "codemirror_mode": {
    "name": "ipython",
    "version": 3
   },
   "file_extension": ".py",
   "mimetype": "text/x-python",
   "name": "python",
   "nbconvert_exporter": "python",
   "pygments_lexer": "ipython3",
   "version": "3.9.13"
  }
 },
 "nbformat": 4,
 "nbformat_minor": 5
}
